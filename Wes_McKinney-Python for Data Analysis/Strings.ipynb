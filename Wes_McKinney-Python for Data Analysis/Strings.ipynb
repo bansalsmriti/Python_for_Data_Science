{
 "cells": [
  {
   "attachments": {},
   "cell_type": "markdown",
   "metadata": {},
   "source": [
    "<h2>Strings"
   ]
  },
  {
   "cell_type": "code",
   "execution_count": 2,
   "metadata": {},
   "outputs": [],
   "source": [
    "#declaration\n",
    "word='grail'\n",
    "sent='a scratch'"
   ]
  },
  {
   "attachments": {},
   "cell_type": "markdown",
   "metadata": {},
   "source": [
    "Printing single letter"
   ]
  },
  {
   "cell_type": "code",
   "execution_count": 3,
   "metadata": {},
   "outputs": [
    {
     "name": "stdout",
     "output_type": "stream",
     "text": [
      "g\n",
      "a\n"
     ]
    }
   ],
   "source": [
    "print(word[0])\n",
    "print(sent[0])"
   ]
  },
  {
   "attachments": {},
   "cell_type": "markdown",
   "metadata": {},
   "source": [
    "Slicing multiple letters"
   ]
  },
  {
   "cell_type": "code",
   "execution_count": 4,
   "metadata": {},
   "outputs": [
    {
     "name": "stdout",
     "output_type": "stream",
     "text": [
      "gra\n"
     ]
    }
   ],
   "source": [
    "print(word[0:3])"
   ]
  },
  {
   "attachments": {},
   "cell_type": "markdown",
   "metadata": {},
   "source": [
    "Negative Numbers"
   ]
  },
  {
   "cell_type": "code",
   "execution_count": 5,
   "metadata": {},
   "outputs": [
    {
     "name": "stdout",
     "output_type": "stream",
     "text": [
      "l\n",
      "atch\n"
     ]
    }
   ],
   "source": [
    "print(word[-1])\n",
    "print(sent[-4:])"
   ]
  },
  {
   "attachments": {},
   "cell_type": "markdown",
   "metadata": {},
   "source": [
    "Getting the last character"
   ]
  },
  {
   "cell_type": "code",
   "execution_count": 9,
   "metadata": {},
   "outputs": [
    {
     "name": "stdout",
     "output_type": "stream",
     "text": [
      "a scratch\n",
      "9\n",
      "scratch\n"
     ]
    }
   ],
   "source": [
    "print(sent)\n",
    "l=len(sent)\n",
    "print(l)\n",
    "print(sent[2:l])"
   ]
  },
  {
   "attachments": {},
   "cell_type": "markdown",
   "metadata": {},
   "source": [
    "Slicing from the beginning or to the end"
   ]
  },
  {
   "cell_type": "code",
   "execution_count": 12,
   "metadata": {},
   "outputs": [
    {
     "name": "stdout",
     "output_type": "stream",
     "text": [
      "a scratch\n",
      "scratch\n",
      "a scr\n"
     ]
    }
   ],
   "source": [
    "print(sent[:])\n",
    "print(sent[2:])\n",
    "print(sent[:5])"
   ]
  },
  {
   "attachments": {},
   "cell_type": "markdown",
   "metadata": {},
   "source": [
    "Slicing increments"
   ]
  },
  {
   "cell_type": "code",
   "execution_count": 14,
   "metadata": {},
   "outputs": [
    {
     "name": "stdout",
     "output_type": "stream",
     "text": [
      "gal\n",
      "arh\n"
     ]
    }
   ],
   "source": [
    "print(word[::2])\n",
    "print(sent[::4])"
   ]
  },
  {
   "attachments": {},
   "cell_type": "markdown",
   "metadata": {},
   "source": [
    "<h3>String Methods"
   ]
  },
  {
   "cell_type": "code",
   "execution_count": 15,
   "metadata": {},
   "outputs": [
    {
     "data": {
      "text/plain": [
       "'Black knight'"
      ]
     },
     "execution_count": 15,
     "metadata": {},
     "output_type": "execute_result"
    }
   ],
   "source": [
    "\"black knight\".capitalize()"
   ]
  },
  {
   "cell_type": "code",
   "execution_count": 17,
   "metadata": {},
   "outputs": [
    {
     "data": {
      "text/plain": [
       "2"
      ]
     },
     "execution_count": 17,
     "metadata": {},
     "output_type": "execute_result"
    }
   ],
   "source": [
    "\"It's just a flesh wound\".count('u')"
   ]
  },
  {
   "cell_type": "code",
   "execution_count": 18,
   "metadata": {},
   "outputs": [
    {
     "data": {
      "text/plain": [
       "True"
      ]
     },
     "execution_count": 18,
     "metadata": {},
     "output_type": "execute_result"
    }
   ],
   "source": [
    "\"Halt! Who is there?\".startswith('Halt')"
   ]
  },
  {
   "cell_type": "code",
   "execution_count": 19,
   "metadata": {},
   "outputs": [
    {
     "data": {
      "text/plain": [
       "True"
      ]
     },
     "execution_count": 19,
     "metadata": {},
     "output_type": "execute_result"
    }
   ],
   "source": [
    "\"Coconut\".endswith('nut')"
   ]
  },
  {
   "cell_type": "code",
   "execution_count": 20,
   "metadata": {},
   "outputs": [
    {
     "data": {
      "text/plain": [
       "6"
      ]
     },
     "execution_count": 20,
     "metadata": {},
     "output_type": "execute_result"
    }
   ],
   "source": [
    "\"It's just a flesh wound\".find('u')"
   ]
  },
  {
   "cell_type": "code",
   "execution_count": 21,
   "metadata": {},
   "outputs": [
    {
     "ename": "ValueError",
     "evalue": "substring not found",
     "output_type": "error",
     "traceback": [
      "\u001b[1;31m---------------------------------------------------------------------------\u001b[0m",
      "\u001b[1;31mValueError\u001b[0m                                Traceback (most recent call last)",
      "Cell \u001b[1;32mIn[21], line 1\u001b[0m\n\u001b[1;32m----> 1\u001b[0m \u001b[39m\"\u001b[39;49m\u001b[39mIt\u001b[39;49m\u001b[39m'\u001b[39;49m\u001b[39ms just a flesh wound\u001b[39;49m\u001b[39m\"\u001b[39;49m\u001b[39m.\u001b[39;49mindex(\u001b[39m'\u001b[39;49m\u001b[39mscratch\u001b[39;49m\u001b[39m'\u001b[39;49m)\n",
      "\u001b[1;31mValueError\u001b[0m: substring not found"
     ]
    }
   ],
   "source": [
    "\"It's just a flesh wound\".index('scratch')"
   ]
  },
  {
   "cell_type": "code",
   "execution_count": 22,
   "metadata": {},
   "outputs": [
    {
     "data": {
      "text/plain": [
       "False"
      ]
     },
     "execution_count": 22,
     "metadata": {},
     "output_type": "execute_result"
    }
   ],
   "source": [
    "\"old woman\".isalpha()"
   ]
  },
  {
   "cell_type": "code",
   "execution_count": 23,
   "metadata": {},
   "outputs": [
    {
     "data": {
      "text/plain": [
       "True"
      ]
     },
     "execution_count": 23,
     "metadata": {},
     "output_type": "execute_result"
    }
   ],
   "source": [
    "\"37\".isdecimal()"
   ]
  },
  {
   "cell_type": "code",
   "execution_count": 24,
   "metadata": {},
   "outputs": [
    {
     "data": {
      "text/plain": [
       "False"
      ]
     },
     "execution_count": 24,
     "metadata": {},
     "output_type": "execute_result"
    }
   ],
   "source": [
    "\"I'm 23\".isalnum()"
   ]
  },
  {
   "cell_type": "code",
   "execution_count": 25,
   "metadata": {},
   "outputs": [
    {
     "data": {
      "text/plain": [
       "'black knight'"
      ]
     },
     "execution_count": 25,
     "metadata": {},
     "output_type": "execute_result"
    }
   ],
   "source": [
    "\"Black Knight\".lower()"
   ]
  },
  {
   "cell_type": "code",
   "execution_count": 26,
   "metadata": {},
   "outputs": [
    {
     "data": {
      "text/plain": [
       "'BLACK KNIGHT'"
      ]
     },
     "execution_count": 26,
     "metadata": {},
     "output_type": "execute_result"
    }
   ],
   "source": [
    "\"Black Knight\".upper()"
   ]
  },
  {
   "cell_type": "code",
   "execution_count": 27,
   "metadata": {},
   "outputs": [
    {
     "data": {
      "text/plain": [
       "'scratch!!'"
      ]
     },
     "execution_count": 27,
     "metadata": {},
     "output_type": "execute_result"
    }
   ],
   "source": [
    "\"flesh wound!!\".replace('flesh wound','scratch')"
   ]
  },
  {
   "cell_type": "code",
   "execution_count": 28,
   "metadata": {},
   "outputs": [
    {
     "data": {
      "text/plain": [
       "'Hello World!'"
      ]
     },
     "execution_count": 28,
     "metadata": {},
     "output_type": "execute_result"
    }
   ],
   "source": [
    "\"  Hello World!     \".strip()"
   ]
  },
  {
   "cell_type": "code",
   "execution_count": 29,
   "metadata": {},
   "outputs": [
    {
     "data": {
      "text/plain": [
       "['No!', 'No!', 'No!', 'No!']"
      ]
     },
     "execution_count": 29,
     "metadata": {},
     "output_type": "execute_result"
    }
   ],
   "source": [
    "\"No! No! No! No!\".split(sep=' ')"
   ]
  },
  {
   "cell_type": "code",
   "execution_count": 30,
   "metadata": {},
   "outputs": [
    {
     "data": {
      "text/plain": [
       "('3', ',', '4')"
      ]
     },
     "execution_count": 30,
     "metadata": {},
     "output_type": "execute_result"
    }
   ],
   "source": [
    "\"3,4\".partition(',')"
   ]
  },
  {
   "cell_type": "code",
   "execution_count": 37,
   "metadata": {},
   "outputs": [
    {
     "data": {
      "text/plain": [
       "'   nine   '"
      ]
     },
     "execution_count": 37,
     "metadata": {},
     "output_type": "execute_result"
    }
   ],
   "source": [
    "\"nine\".center(10)"
   ]
  },
  {
   "cell_type": "code",
   "execution_count": 36,
   "metadata": {},
   "outputs": [
    {
     "data": {
      "text/plain": [
       "'000000009'"
      ]
     },
     "execution_count": 36,
     "metadata": {},
     "output_type": "execute_result"
    }
   ],
   "source": [
    "\"9\".zfill(9)"
   ]
  },
  {
   "attachments": {},
   "cell_type": "markdown",
   "metadata": {},
   "source": [
    "Join"
   ]
  },
  {
   "cell_type": "code",
   "execution_count": 41,
   "metadata": {},
   "outputs": [
    {
     "name": "stdout",
     "output_type": "stream",
     "text": [
      "Hello World !!!\n"
     ]
    }
   ],
   "source": [
    "s1='Hello'\n",
    "s2='World'\n",
    "s3='!!!'\n",
    "s=' '.join([s1,s2,s3])\n",
    "print(s)"
   ]
  },
  {
   "cell_type": "code",
   "execution_count": 42,
   "metadata": {},
   "outputs": [
    {
     "name": "stdout",
     "output_type": "stream",
     "text": [
      "Hello\tWorld\t!!!\n"
     ]
    }
   ],
   "source": [
    "t='\\t'.join([s1,s2,s3])\n",
    "print(t)"
   ]
  },
  {
   "attachments": {},
   "cell_type": "markdown",
   "metadata": {},
   "source": [
    "Splitlines"
   ]
  },
  {
   "cell_type": "code",
   "execution_count": 43,
   "metadata": {},
   "outputs": [
    {
     "name": "stdout",
     "output_type": "stream",
     "text": [
      "Guard: What? Ridden on a horse?\n",
      "King Arthur: Yes!\n",
      "Guard: You're using coconuts!\n",
      "King Arthur: What?\n",
      "\n"
     ]
    }
   ],
   "source": [
    "multi_str=\"\"\"Guard: What? Ridden on a horse?\n",
    "King Arthur: Yes!\n",
    "Guard: You're using coconuts!\n",
    "King Arthur: What?\n",
    "\"\"\"\n",
    "print(multi_str)"
   ]
  },
  {
   "cell_type": "code",
   "execution_count": 45,
   "metadata": {},
   "outputs": [
    {
     "name": "stdout",
     "output_type": "stream",
     "text": [
      "['Guard: What? Ridden on a horse?', 'King Arthur: Yes!', \"Guard: You're using coconuts!\", 'King Arthur: What?']\n"
     ]
    }
   ],
   "source": [
    "multi_str_split=multi_str.splitlines()\n",
    "print(multi_str_split)"
   ]
  },
  {
   "cell_type": "code",
   "execution_count": 47,
   "metadata": {},
   "outputs": [
    {
     "name": "stdout",
     "output_type": "stream",
     "text": [
      "['Guard: What? Ridden on a horse?', \"Guard: You're using coconuts!\"]\n"
     ]
    }
   ],
   "source": [
    "gaurd=multi_str.splitlines()[::2]\n",
    "print(gaurd)"
   ]
  },
  {
   "cell_type": "code",
   "execution_count": 48,
   "metadata": {},
   "outputs": [
    {
     "name": "stdout",
     "output_type": "stream",
     "text": [
      "['King Arthur: Yes!', 'King Arthur: What?']\n"
     ]
    }
   ],
   "source": [
    "king=multi_str.splitlines()[1::2]\n",
    "print(king)"
   ]
  },
  {
   "attachments": {},
   "cell_type": "markdown",
   "metadata": {},
   "source": [
    "<h3>Strings Formatting"
   ]
  },
  {
   "attachments": {},
   "cell_type": "markdown",
   "metadata": {},
   "source": [
    "Formatting character strings"
   ]
  },
  {
   "cell_type": "code",
   "execution_count": 50,
   "metadata": {},
   "outputs": [
    {
     "name": "stdout",
     "output_type": "stream",
     "text": [
      "It's just a flesh wound!\n"
     ]
    }
   ],
   "source": [
    "var=\"flesh wound\"\n",
    "s=\"It's just a {}!\"\n",
    "print(s.format(var))"
   ]
  },
  {
   "cell_type": "code",
   "execution_count": 51,
   "metadata": {},
   "outputs": [
    {
     "name": "stdout",
     "output_type": "stream",
     "text": [
      "It's just a flesh wound,\n",
      "Not a scratch!\n"
     ]
    }
   ],
   "source": [
    "s=\"\"\"It's just a {0},\n",
    "Not a {1}!\"\"\"\n",
    "print(s.format('flesh wound','scratch'))"
   ]
  },
  {
   "cell_type": "code",
   "execution_count": 52,
   "metadata": {},
   "outputs": [
    {
     "name": "stdout",
     "output_type": "stream",
     "text": [
      "It's just a flesh wound,\n",
      "Not a scratch!\n"
     ]
    }
   ],
   "source": [
    "s=\"\"\"It's just a {f1},\n",
    "Not a {f2}!\"\"\"\n",
    "print(s.format(f1='flesh wound',f2='scratch'))"
   ]
  },
  {
   "attachments": {},
   "cell_type": "markdown",
   "metadata": {},
   "source": [
    "C printf style formatting"
   ]
  },
  {
   "cell_type": "code",
   "execution_count": 54,
   "metadata": {},
   "outputs": [
    {
     "name": "stdout",
     "output_type": "stream",
     "text": [
      "I only know 7 digits of pi.\n"
     ]
    }
   ],
   "source": [
    "s=\"I only know %d digits of pi.\" %7\n",
    "print(s)"
   ]
  },
  {
   "cell_type": "code",
   "execution_count": 62,
   "metadata": {},
   "outputs": [
    {
     "name": "stdout",
     "output_type": "stream",
     "text": [
      "Some digits of e are 2.72\n"
     ]
    }
   ],
   "source": [
    "s=\"Some digits of %s are 2.72\" %'e' \n",
    "print(s)"
   ]
  },
  {
   "attachments": {},
   "cell_type": "markdown",
   "metadata": {},
   "source": [
    "<h3>Regular Expressions(RegEx)"
   ]
  },
  {
   "cell_type": "code",
   "execution_count": 63,
   "metadata": {},
   "outputs": [],
   "source": [
    "import re"
   ]
  },
  {
   "attachments": {},
   "cell_type": "markdown",
   "metadata": {},
   "source": [
    "Match a pattern"
   ]
  },
  {
   "cell_type": "code",
   "execution_count": 80,
   "metadata": {},
   "outputs": [
    {
     "name": "stdout",
     "output_type": "stream",
     "text": [
      "<re.Match object; span=(0, 10), match='1234567890'>\n"
     ]
    }
   ],
   "source": [
    "mob='1234567890'\n",
    "m=re.match(pattern='\\d\\d\\d\\d\\d\\d\\d\\d\\d\\d', string=mob)\n",
    "print(m)"
   ]
  },
  {
   "cell_type": "code",
   "execution_count": 71,
   "metadata": {},
   "outputs": [
    {
     "name": "stdout",
     "output_type": "stream",
     "text": [
      "Match\n"
     ]
    }
   ],
   "source": [
    "mob='1234567890'\n",
    "m=re.match(pattern='\\d\\d\\d\\d\\d\\d\\d\\d\\d\\d', string=mob)\n",
    "if m:\n",
    "    print('Match')\n",
    "else:\n",
    "    print('No match')"
   ]
  },
  {
   "cell_type": "code",
   "execution_count": 76,
   "metadata": {},
   "outputs": [
    {
     "name": "stdout",
     "output_type": "stream",
     "text": [
      "True\n"
     ]
    }
   ],
   "source": [
    "num_spaces='123 456 7890'\n",
    "m=re.match(pattern='\\d{3}\\s?\\d{3}\\s?\\d{4}', string=num_spaces)\n",
    "print(bool(m))"
   ]
  },
  {
   "attachments": {},
   "cell_type": "markdown",
   "metadata": {},
   "source": [
    "<h4>Sequence Characters in Regular Expressions"
   ]
  },
  {
   "attachments": {},
   "cell_type": "markdown",
   "metadata": {},
   "source": [
    ". (dot) - Matches any character except newline.\n",
    "\n",
    "^ (caret) - Matches the start of a string.\n",
    "\n",
    "$ (dollar) - Matches the end of a string.\n",
    "\n",
    "\\ (backslash) - Escapes special characters.\n",
    "\n",
    "[] (brackets) - Matches a range of characters.\n",
    "\n",
    "| (pipe) - Matches either/or expressions.\n",
    "\n",
    "() (parentheses) - Groups expressions together.\n",
    "\n",
    "\\* (asterisk) - Matches zero or more occurrences of the preceding character.\n",
    "\n",
    "\\+ (plus) - Matches one or more occurrences of the preceding character.\n",
    "\n",
    "? (question mark) - Matches zero or one occurrences of the preceding character.\n"
   ]
  },
  {
   "attachments": {},
   "cell_type": "markdown",
   "metadata": {},
   "source": [
    "<h4>Quantifiers in Regular Expressions"
   ]
  },
  {
   "attachments": {},
   "cell_type": "markdown",
   "metadata": {},
   "source": [
    "\\* (asterisk) - Matches zero or more occurrences of the preceding character or group.\n",
    "\n",
    "\\+ (plus) - Matches one or more occurrences of the preceding character or group.\n",
    "\n",
    "? (question mark) - Matches zero or one occurrence of the preceding character or group.\n",
    "\n",
    "{n} - Matches exactly n occurrences of the preceding character or group.\n",
    "\n",
    "{n,} - Matches n or more occurrences of the preceding character or group.\n",
    "\n",
    "{n,m} - Matches between n and m occurrences of the preceding character or group.\n"
   ]
  },
  {
   "cell_type": "code",
   "execution_count": null,
   "metadata": {},
   "outputs": [],
   "source": [
    "# match zero or more occurrences of the letter 'a'\n",
    "pattern = r'a*'\n",
    "text = 'aaabbb'\n",
    "result = re.findall(pattern, text)\n",
    "print(result)  # output: ['aaa', '', '', '']\n",
    "\n",
    "# match one or more occurrences of the letter 'a'\n",
    "pattern = r'a+'\n",
    "text = 'aaabbb'\n",
    "result = re.findall(pattern, text)\n",
    "print(result)  # output: ['aaa']\n",
    "\n",
    "# match zero or one occurrence of the letter 'a'\n",
    "pattern = r'a?'\n",
    "text = 'aaabbb'\n",
    "result = re.findall(pattern, text)\n",
    "print(result)  # output: ['', 'a', 'a', '', '', '', '']\n",
    "\n",
    "# match exactly three occurrences of the letter 'a'\n",
    "pattern = r'a{3}'\n",
    "text = 'aaabbb'\n",
    "result = re.findall(pattern, text)\n",
    "print(result)  # output: ['aaa']\n",
    "\n",
    "# match three or more occurrences of the letter 'a'\n",
    "pattern = r'a{3,}'\n",
    "text = 'aaabbb'\n",
    "result = re.findall(pattern, text)\n",
    "print(result)  # output: ['aaa']\n",
    "\n",
    "# match between two and four occurrences of the letter 'a'\n",
    "pattern = r'a{2,4}'\n",
    "text = 'aaabbb'\n",
    "result = re.findall(pattern, text)\n",
    "print(result)  # output: ['aaa']\n"
   ]
  },
  {
   "attachments": {},
   "cell_type": "markdown",
   "metadata": {},
   "source": [
    "<h4>Special Characters in Regular Expressions"
   ]
  },
  {
   "attachments": {},
   "cell_type": "markdown",
   "metadata": {},
   "source": [
    ". (period) - Matches any single character except newline.\n",
    "\n",
    "^ (caret) - Matches the beginning of a string or line.\n",
    "\n",
    "$ (dollar) - Matches the end of a string or line.\n",
    "\n",
    "[] (square brackets) - Matches any one of the characters inside the brackets.\n",
    "\n",
    "| (pipe) - Matches either the expression before or after the pipe.\n",
    "\n",
    "() (parentheses) - Groups together a series of expressions.\n",
    "\n",
    "\\ (backslash) - Escapes the special meaning of a character."
   ]
  },
  {
   "cell_type": "code",
   "execution_count": null,
   "metadata": {},
   "outputs": [],
   "source": [
    "# match any single character followed by 'at'\n",
    "pattern = r'.at'\n",
    "text = 'cat hat rat bat'\n",
    "result = re.findall(pattern, text)\n",
    "print(result)  # output: ['cat', 'hat', 'rat', 'bat']\n",
    "\n",
    "# match any line that starts with 'cat'\n",
    "pattern = r'^cat'\n",
    "text = 'cat hat rat\\ncat bat\\nmat cat'\n",
    "result = re.findall(pattern, text, flags=re.MULTILINE)\n",
    "print(result)  # output: ['cat', 'cat']\n",
    "\n",
    "# match any line that ends with 'at'\n",
    "pattern = r'at$'\n",
    "text = 'cat hat ra\\nbat cat\\nmat cat'\n",
    "result = re.findall(pattern, text, flags=re.MULTILINE)\n",
    "print(result)  # output: ['at', 'at']\n",
    "\n",
    "# match any line that contains either 'cat' or 'hat'\n",
    "pattern = r'cat|hat'\n",
    "text = 'cat hat rat\\nbat cat\\nmat cat'\n",
    "result = re.findall(pattern, text)\n",
    "print(result)  # output: ['cat', 'hat', 'cat', 'cat']\n",
    "\n",
    "# match any character that is not a vowel\n",
    "pattern = r'[^aeiou]'\n",
    "text = 'apple banana cherry'\n",
    "result = re.findall(pattern, text)\n",
    "print(result)  # output: ['p', 'p', 'l', ' ', 'b', 'n', 'n', ' ', 'ch', 'rr', 'y']\n",
    "\n",
    "# match any two digits separated by a hyphen\n",
    "pattern = r'\\d{2}-\\d{2}'\n",
    "text = '01-01-2022, 05-10-2022, 12-25-2022'\n",
    "result = re.findall(pattern, text)\n",
    "print(result)  # output: ['01-01', '05-10', '12-25']\n",
    "\n",
    "# group together any two digits followed by a hyphen and any two more digits\n",
    "pattern = r'(\\d{2})-(\\d{2})'\n",
    "text = '01-01-2022, 05-10-2022, 12-25-2022'\n",
    "result = re.findall(pattern, text)\n",
    "print(result)  # output: [('01', '01'), ('05', '10'), ('12', '25')]\n",
    "\n",
    "# match a string that contains a backslash followed by the letter 'n'\n",
    "pattern = r'\\\\n'\n",
    "text = 'hello\\\\nworld'\n",
    "result = re.findall(pattern, text)\n",
    "print(result)  # output: ['\\\\n']\n"
   ]
  },
  {
   "attachments": {},
   "cell_type": "markdown",
   "metadata": {},
   "source": [
    "Find a pattern"
   ]
  },
  {
   "cell_type": "code",
   "execution_count": null,
   "metadata": {},
   "outputs": [],
   "source": [
    "s=\"13 white balls, 12 blue balls, 10 green balls, 8 red balls\"\n",
    "p=r'\\d+'\n",
    "m=re.findall(pattern=p,string=s)\n",
    "print(m)"
   ]
  }
 ],
 "metadata": {
  "kernelspec": {
   "display_name": "Python 3",
   "language": "python",
   "name": "python3"
  },
  "language_info": {
   "codemirror_mode": {
    "name": "ipython",
    "version": 3
   },
   "file_extension": ".py",
   "mimetype": "text/x-python",
   "name": "python",
   "nbconvert_exporter": "python",
   "pygments_lexer": "ipython3",
   "version": "3.10.11"
  },
  "orig_nbformat": 4
 },
 "nbformat": 4,
 "nbformat_minor": 2
}
