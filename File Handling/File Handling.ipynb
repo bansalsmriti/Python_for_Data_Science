{
 "cells": [
  {
   "attachments": {},
   "cell_type": "markdown",
   "metadata": {},
   "source": [
    "Reading a file"
   ]
  },
  {
   "cell_type": "code",
   "execution_count": 15,
   "metadata": {},
   "outputs": [
    {
     "name": "stdout",
     "output_type": "stream",
     "text": [
      "Hi! \n",
      "Python is awesome.\n"
     ]
    }
   ],
   "source": [
    "f=open(\"first.txt\")\n",
    "print(f.read())\n",
    "f.close()"
   ]
  },
  {
   "cell_type": "code",
   "execution_count": 14,
   "metadata": {},
   "outputs": [
    {
     "name": "stdout",
     "output_type": "stream",
     "text": [
      "Hi! \n",
      "Pytho\n"
     ]
    }
   ],
   "source": [
    "f=open(\"first.txt\",'r')\n",
    "print(f.read(10))\n",
    "f.close()"
   ]
  },
  {
   "cell_type": "code",
   "execution_count": 13,
   "metadata": {},
   "outputs": [
    {
     "name": "stdout",
     "output_type": "stream",
     "text": [
      "Hi! \n",
      "Python is awesome.\n"
     ]
    }
   ],
   "source": [
    "f=open(r\"C:\\Users\\bansa\\OneDrive\\Documents\\Python projects\\first.txt\",'r')\n",
    "print(f.read())\n",
    "f.close()"
   ]
  },
  {
   "cell_type": "code",
   "execution_count": 16,
   "metadata": {},
   "outputs": [
    {
     "name": "stdout",
     "output_type": "stream",
     "text": [
      "Hi! \n",
      "Python is awesome.\n"
     ]
    }
   ],
   "source": [
    "with open(\"first.txt\",'r') as f:\n",
    "    print(f.read())"
   ]
  },
  {
   "cell_type": "code",
   "execution_count": 17,
   "metadata": {},
   "outputs": [
    {
     "ename": "ValueError",
     "evalue": "I/O operation on closed file.",
     "output_type": "error",
     "traceback": [
      "\u001b[1;31m---------------------------------------------------------------------------\u001b[0m",
      "\u001b[1;31mValueError\u001b[0m                                Traceback (most recent call last)",
      "Cell \u001b[1;32mIn[17], line 1\u001b[0m\n\u001b[1;32m----> 1\u001b[0m \u001b[39mprint\u001b[39m(f\u001b[39m.\u001b[39;49mread())\n",
      "\u001b[1;31mValueError\u001b[0m: I/O operation on closed file."
     ]
    }
   ],
   "source": [
    "print(f.read())"
   ]
  },
  {
   "cell_type": "code",
   "execution_count": 21,
   "metadata": {},
   "outputs": [
    {
     "name": "stdout",
     "output_type": "stream",
     "text": [
      "Hi! \n",
      "\n"
     ]
    }
   ],
   "source": [
    "with open(r\"C:\\Users\\bansa\\OneDrive\\Documents\\Python projects\\first.txt\",'r') as f:\n",
    "    print(f.readline())\n",
    "    #print(f.readline())"
   ]
  },
  {
   "cell_type": "code",
   "execution_count": 22,
   "metadata": {},
   "outputs": [
    {
     "name": "stdout",
     "output_type": "stream",
     "text": [
      "Hi! \n",
      "\n",
      "Python is awesome.\n"
     ]
    }
   ],
   "source": [
    "with open(r\"C:\\Users\\bansa\\OneDrive\\Documents\\Python projects\\first.txt\",'r') as f:\n",
    "    print(f.readline())\n",
    "    print(f.readline())"
   ]
  },
  {
   "cell_type": "code",
   "execution_count": 27,
   "metadata": {},
   "outputs": [
    {
     "name": "stdout",
     "output_type": "stream",
     "text": [
      "A poem on Teachers\n",
      " by Kevin William Huff\n",
      "\n"
     ]
    }
   ],
   "source": [
    "with open(r\"C:\\Users\\bansa\\OneDrive\\Documents\\Python projects\\poem.txt\",'r') as f:\n",
    "    print(f.readline(), end=' ')\n",
    "    print(f.readline())"
   ]
  },
  {
   "cell_type": "code",
   "execution_count": 33,
   "metadata": {},
   "outputs": [
    {
     "name": "stdout",
     "output_type": "stream",
     "text": [
      "A poem on Teachers\n",
      "by Kevin William Huff\n",
      "Teachers\n",
      "Paint their minds\n",
      "and guide their thoughts\n",
      "Share their achievements\n",
      "and advise their faults\n",
      "Inspire a Love\n",
      "of knowledge and truth\n",
      "As you light the path\n",
      "Which leads our youth\n",
      "For our future brightens\n",
      "with each lesson you teach\n",
      "Each smile you lengthen\n",
      "Each goal you help reach\n",
      "For the dawn of each poet\n",
      "each philosopher and king\n",
      "Begins with a Teacher\n",
      "And the wisdom they bring.\n"
     ]
    }
   ],
   "source": [
    "f=open(\"poem.txt\")\n",
    "s=\" \"\n",
    "while(s):\n",
    "    s=f.readline()\n",
    "    print(s, end='')\n",
    "f.close()"
   ]
  },
  {
   "cell_type": "code",
   "execution_count": 34,
   "metadata": {},
   "outputs": [
    {
     "name": "stdout",
     "output_type": "stream",
     "text": [
      "A poem on Teachers\n",
      "by Kevin William Huff\n",
      "Teachers\n",
      "Paint their minds\n",
      "and guide their thoughts\n",
      "Share their achievements\n",
      "and advise their faults\n",
      "Inspire a Love\n",
      "of knowledge and truth\n",
      "As you light the path\n",
      "Which leads our youth\n",
      "For our future brightens\n",
      "with each lesson you teach\n",
      "Each smile you lengthen\n",
      "Each goal you help reach\n",
      "For the dawn of each poet\n",
      "each philosopher and king\n",
      "Begins with a Teacher\n",
      "And the wisdom they bring.\n"
     ]
    }
   ],
   "source": [
    "f=open(\"poem.txt\")\n",
    "for line in f:\n",
    "    print(line,end='')\n",
    "f.close()"
   ]
  },
  {
   "cell_type": "code",
   "execution_count": 37,
   "metadata": {},
   "outputs": [
    {
     "name": "stdout",
     "output_type": "stream",
     "text": [
      "['A poem on Teachers\\n', 'by Kevin William Huff\\n', 'Teachers\\n', 'Paint their minds\\n', 'and guide their thoughts\\n', 'Share their achievements\\n', 'and advise their faults\\n', 'Inspire a Love\\n', 'of knowledge and truth\\n', 'As you light the path\\n', 'Which leads our youth\\n', 'For our future brightens\\n', 'with each lesson you teach\\n', 'Each smile you lengthen\\n', 'Each goal you help reach\\n', 'For the dawn of each poet\\n', 'each philosopher and king\\n', 'Begins with a Teacher\\n', 'And the wisdom they bring.\\n']\n"
     ]
    }
   ],
   "source": [
    "f=open(\"poem.txt\")\n",
    "print(f.readlines())\n",
    "f.close()"
   ]
  },
  {
   "cell_type": "code",
   "execution_count": 40,
   "metadata": {},
   "outputs": [
    {
     "name": "stdout",
     "output_type": "stream",
     "text": [
      "A poem on Teachers\n",
      "by Kevin William Huff\n",
      "Teachers\n",
      "Paint their minds\n",
      "and guide their thoughts\n",
      "Share their achievements\n",
      "and advise their faults\n",
      "Inspire a Love\n",
      "of knowledge and truth\n",
      "As you light the path\n",
      "Which leads our youth\n",
      "For our future brightens\n",
      "with each lesson you teach\n",
      "Each smile you lengthen\n",
      "Each goal you help reach\n",
      "For the dawn of each poet\n",
      "each philosopher and king\n",
      "Begins with a Teacher\n",
      "And the wisdom they bring.\n"
     ]
    }
   ],
   "source": [
    "f=open(\"poem.txt\")\n",
    "p=f.readlines()\n",
    "for i in p:\n",
    "    print(i, end='')\n",
    "f.close()"
   ]
  },
  {
   "cell_type": "code",
   "execution_count": 52,
   "metadata": {},
   "outputs": [
    {
     "name": "stdout",
     "output_type": "stream",
     "text": [
      "The size of first file is: 23\n",
      "The number of lines in first file are: 2\n"
     ]
    }
   ],
   "source": [
    "f=open(\"first.txt\")\n",
    "print(\"The size of first file is: \"+str(len(f.read())))\n",
    "f.seek(0)\n",
    "print(\"The number of lines in first file are: \"+str(len(f.readlines())))\n",
    "f.close()"
   ]
  },
  {
   "cell_type": "code",
   "execution_count": 53,
   "metadata": {},
   "outputs": [
    {
     "name": "stdout",
     "output_type": "stream",
     "text": [
      "The size of poem file is: 426\n",
      "The number of lines in poem file are: 19\n"
     ]
    }
   ],
   "source": [
    "f=open(\"poem.txt\")\n",
    "print(\"The size of poem file is: \"+str(len(f.read())))\n",
    "f.seek(0)\n",
    "print(\"The number of lines in poem file are: \"+str(len(f.readlines())))\n",
    "f.close()"
   ]
  }
 ],
 "metadata": {
  "kernelspec": {
   "display_name": "Python 3",
   "language": "python",
   "name": "python3"
  },
  "language_info": {
   "codemirror_mode": {
    "name": "ipython",
    "version": 3
   },
   "file_extension": ".py",
   "mimetype": "text/x-python",
   "name": "python",
   "nbconvert_exporter": "python",
   "pygments_lexer": "ipython3",
   "version": "3.10.11"
  },
  "orig_nbformat": 4
 },
 "nbformat": 4,
 "nbformat_minor": 2
}
