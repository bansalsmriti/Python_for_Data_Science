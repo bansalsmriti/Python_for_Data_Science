{
 "cells": [
  {
   "attachments": {},
   "cell_type": "markdown",
   "metadata": {},
   "source": [
    "<H2>Pandas DataFrame</H2>"
   ]
  },
  {
   "attachments": {},
   "cell_type": "markdown",
   "metadata": {},
   "source": [
    "Make a Pandas DataFrame with two-dimensional list "
   ]
  },
  {
   "cell_type": "code",
   "execution_count": 52,
   "metadata": {},
   "outputs": [],
   "source": [
    "import pandas as pd"
   ]
  },
  {
   "cell_type": "code",
   "execution_count": 53,
   "metadata": {},
   "outputs": [
    {
     "name": "stdout",
     "output_type": "stream",
     "text": [
      "         0   1\n",
      "0   smriti  23\n",
      "1  srishti  25\n"
     ]
    }
   ],
   "source": [
    "lis=[['smriti',23],['srishti',25]]\n",
    "data=pd.DataFrame(lis)\n",
    "print(data)"
   ]
  },
  {
   "attachments": {},
   "cell_type": "markdown",
   "metadata": {},
   "source": [
    "Python | Creating DataFrame from dict of narray/lists "
   ]
  },
  {
   "cell_type": "code",
   "execution_count": 54,
   "metadata": {},
   "outputs": [
    {
     "name": "stdout",
     "output_type": "stream",
     "text": [
      "    category  Values\n",
      "0      Fruit   apple\n",
      "1  Vegetable  tomato\n",
      "2        Car     BMW\n"
     ]
    }
   ],
   "source": [
    "d={'category':['Fruit','Vegetable','Car'],'Values':['apple','tomato','BMW']}\n",
    "data1=pd.DataFrame(d)\n",
    "print(data1)"
   ]
  },
  {
   "attachments": {},
   "cell_type": "markdown",
   "metadata": {},
   "source": [
    "Creating Pandas dataframe using list of lists"
   ]
  },
  {
   "cell_type": "code",
   "execution_count": 55,
   "metadata": {},
   "outputs": [
    {
     "name": "stdout",
     "output_type": "stream",
     "text": [
      "           0       1\n",
      "0      fruit   apple\n",
      "1  vegetable  tomato\n",
      "2        car     BMW\n"
     ]
    }
   ],
   "source": [
    "l=[['fruit','apple'],['vegetable','tomato'],['car','BMW']]\n",
    "data2=pd.DataFrame(l)\n",
    "print(data2)"
   ]
  },
  {
   "attachments": {},
   "cell_type": "markdown",
   "metadata": {},
   "source": [
    "Creating a Pandas dataframe using list of tuples "
   ]
  },
  {
   "cell_type": "code",
   "execution_count": 56,
   "metadata": {},
   "outputs": [
    {
     "name": "stdout",
     "output_type": "stream",
     "text": [
      "            0       1       2\n",
      "0       fruit   apple  banana\n",
      "1  vegeatable  tomato   onion\n",
      "2         car     BMW    Audi\n"
     ]
    }
   ],
   "source": [
    "t=[('fruit','apple','banana'),('vegeatable','tomato','onion'),('car','BMW','Audi')]\n",
    "data3=pd.DataFrame(t)\n",
    "print(data3)"
   ]
  },
  {
   "attachments": {},
   "cell_type": "markdown",
   "metadata": {},
   "source": [
    "Create a Pandas DataFrame from List of Dicts "
   ]
  },
  {
   "cell_type": "code",
   "execution_count": 57,
   "metadata": {},
   "outputs": [
    {
     "name": "stdout",
     "output_type": "stream",
     "text": [
      "    fruit vegetable\n",
      "0   apple    tomato\n",
      "1  banana     onion\n"
     ]
    }
   ],
   "source": [
    "dict=[{'fruit':'apple','vegetable':'tomato'},\n",
    "{'fruit':'banana','vegetable':'onion'}]\n",
    "data4=pd.DataFrame(dict)\n",
    "print(data4)"
   ]
  },
  {
   "attachments": {},
   "cell_type": "markdown",
   "metadata": {},
   "source": [
    "Convert list of nested dictionary into Pandas dataframe"
   ]
  },
  {
   "cell_type": "code",
   "execution_count": 58,
   "metadata": {},
   "outputs": [
    {
     "name": "stdout",
     "output_type": "stream",
     "text": [
      "          category  names\n",
      "fruits       apple    NaN\n",
      "vegetable   tomato    NaN\n",
      "smriti         NaN   23.0\n",
      "srishti        NaN   25.0\n"
     ]
    }
   ],
   "source": [
    "d1={'category':{'fruits':'apple','vegetable':'tomato'},'names':{'smriti':23,'srishti':25}}\n",
    "data5=pd.DataFrame(d1)\n",
    "print(data5)"
   ]
  },
  {
   "attachments": {},
   "cell_type": "markdown",
   "metadata": {},
   "source": [
    "Replace values in Pandas dataframe using regex"
   ]
  },
  {
   "cell_type": "code",
   "execution_count": 59,
   "metadata": {},
   "outputs": [
    {
     "name": "stdout",
     "output_type": "stream",
     "text": [
      "                City        Event   Cost\n",
      "2018-02     New York        Music  10000\n",
      "2018-04      Parague       Poetry   5000\n",
      "2018-06    New Delhi      Theatre  15000\n",
      "2018-10       Venice       Comedy   2000\n",
      "2018-12  new Orleans  Tech_Summit  12000\n"
     ]
    }
   ],
   "source": [
    "df=pd.DataFrame({'City':['New York', 'Parague', 'New Delhi', 'Venice', 'new Orleans'],\n",
    "                    'Event':['Music', 'Poetry', 'Theatre', 'Comedy', 'Tech_Summit'],\n",
    "                    'Cost':[10000, 5000, 15000, 2000, 12000]})\n",
    "index_=[pd.Period('02-2018'), pd.Period('04-2018'),\n",
    "          pd.Period('06-2018'), pd.Period('10-2018'), pd.Period('12-2018')]\n",
    "df.index=index_\n",
    "print(df)"
   ]
  },
  {
   "cell_type": "code",
   "execution_count": 60,
   "metadata": {},
   "outputs": [
    {
     "name": "stdout",
     "output_type": "stream",
     "text": [
      "                City        Event   Cost\n",
      "2018-02     New_York        Music  10000\n",
      "2018-04      Parague       Poetry   5000\n",
      "2018-06    New_Delhi      Theatre  15000\n",
      "2018-10       Venice       Comedy   2000\n",
      "2018-12  New_Orleans  Tech_Summit  12000\n"
     ]
    }
   ],
   "source": [
    "df_updated=df.replace(to_replace='[nN]ew ',value='New_',regex=True)\n",
    "print(df_updated)"
   ]
  },
  {
   "attachments": {},
   "cell_type": "markdown",
   "metadata": {},
   "source": [
    "Creating a dataframe from Pandas series"
   ]
  },
  {
   "cell_type": "code",
   "execution_count": 61,
   "metadata": {},
   "outputs": [
    {
     "name": "stdout",
     "output_type": "stream",
     "text": [
      "0         Wes Kinney\n",
      "1    Rich and Knight\n",
      "2       Silberschatz\n",
      "3             Galvin\n",
      "dtype: object\n"
     ]
    }
   ],
   "source": [
    "author=['Wes Kinney','Rich and Knight','Silberschatz','Galvin']\n",
    "s=pd.Series(author)\n",
    "print(s)"
   ]
  },
  {
   "cell_type": "code",
   "execution_count": 70,
   "metadata": {},
   "outputs": [
    {
     "name": "stdout",
     "output_type": "stream",
     "text": [
      "            Author\n",
      "0       Wes Kinney\n",
      "1  Rich and Knight\n",
      "2     Silberschatz\n",
      "3           Galvin\n"
     ]
    },
    {
     "name": "stderr",
     "output_type": "stream",
     "text": [
      "C:\\Users\\bansa\\AppData\\Local\\Temp\\ipykernel_7092\\3019407325.py:2: FutureWarning: DataFrame.set_axis 'inplace' keyword is deprecated and will be removed in a future version. Use `obj = obj.set_axis(..., copy=False)` instead\n",
      "  df1.set_axis(['Author'],axis='columns',inplace=True)\n"
     ]
    }
   ],
   "source": [
    "df1=pd.DataFrame(s)\n",
    "df1.set_axis(['Author'],axis='columns',inplace=True)\n",
    "print(df1)"
   ]
  },
  {
   "attachments": {},
   "cell_type": "markdown",
   "metadata": {},
   "source": [
    "Construct a DataFrame in Pandas using string data"
   ]
  },
  {
   "cell_type": "code",
   "execution_count": 73,
   "metadata": {},
   "outputs": [
    {
     "name": "stdout",
     "output_type": "stream",
     "text": [
      "  Name       Dept  Salary\n",
      "0  abc         IT   10000\n",
      "1  xyz  Marketing   12000\n",
      "2  rst         HR    2000\n"
     ]
    }
   ],
   "source": [
    "from io import StringIO\n",
    "sd=StringIO(\"\"\"Name;Dept;Salary\n",
    "abc;IT;10000\n",
    "xyz;Marketing;12000\n",
    "rst;HR;2000\"\"\")\n",
    "df2=pd.read_csv(sd,sep=\";\")\n",
    "print(df2)"
   ]
  },
  {
   "attachments": {},
   "cell_type": "markdown",
   "metadata": {},
   "source": [
    "Reindexing in Pandas DataFrame"
   ]
  },
  {
   "cell_type": "code",
   "execution_count": 82,
   "metadata": {},
   "outputs": [
    {
     "name": "stdout",
     "output_type": "stream",
     "text": [
      "          a         b         c         d\n",
      "A  0.298734  0.421094  0.884512  0.469426\n",
      "B  0.202836  0.416533  0.627482  0.054000\n",
      "C  0.708371  0.336502  0.546217  0.620162\n",
      "D  0.602635  0.268971  0.242330  0.156395\n"
     ]
    }
   ],
   "source": [
    "import numpy as np\n",
    "col=['a','b','c','d']\n",
    "ind=['A','B','C','D']\n",
    "df3=pd.DataFrame(np.random.rand(4,4),columns=col,index=ind)\n",
    "print(df3)\n"
   ]
  },
  {
   "cell_type": "code",
   "execution_count": 80,
   "metadata": {},
   "outputs": [
    {
     "data": {
      "text/html": [
       "<div>\n",
       "<style scoped>\n",
       "    .dataframe tbody tr th:only-of-type {\n",
       "        vertical-align: middle;\n",
       "    }\n",
       "\n",
       "    .dataframe tbody tr th {\n",
       "        vertical-align: top;\n",
       "    }\n",
       "\n",
       "    .dataframe thead th {\n",
       "        text-align: right;\n",
       "    }\n",
       "</style>\n",
       "<table border=\"1\" class=\"dataframe\">\n",
       "  <thead>\n",
       "    <tr style=\"text-align: right;\">\n",
       "      <th></th>\n",
       "      <th>a</th>\n",
       "      <th>b</th>\n",
       "      <th>c</th>\n",
       "      <th>d</th>\n",
       "    </tr>\n",
       "  </thead>\n",
       "  <tbody>\n",
       "    <tr>\n",
       "      <th>B</th>\n",
       "      <td>0.066268</td>\n",
       "      <td>0.511731</td>\n",
       "      <td>0.805573</td>\n",
       "      <td>0.556204</td>\n",
       "    </tr>\n",
       "    <tr>\n",
       "      <th>C</th>\n",
       "      <td>0.604733</td>\n",
       "      <td>0.099382</td>\n",
       "      <td>0.594740</td>\n",
       "      <td>0.509923</td>\n",
       "    </tr>\n",
       "    <tr>\n",
       "      <th>A</th>\n",
       "      <td>0.596213</td>\n",
       "      <td>0.509975</td>\n",
       "      <td>0.986902</td>\n",
       "      <td>0.596656</td>\n",
       "    </tr>\n",
       "    <tr>\n",
       "      <th>D</th>\n",
       "      <td>0.073461</td>\n",
       "      <td>0.292532</td>\n",
       "      <td>0.597633</td>\n",
       "      <td>0.716100</td>\n",
       "    </tr>\n",
       "  </tbody>\n",
       "</table>\n",
       "</div>"
      ],
      "text/plain": [
       "          a         b         c         d\n",
       "B  0.066268  0.511731  0.805573  0.556204\n",
       "C  0.604733  0.099382  0.594740  0.509923\n",
       "A  0.596213  0.509975  0.986902  0.596656\n",
       "D  0.073461  0.292532  0.597633  0.716100"
      ]
     },
     "execution_count": 80,
     "metadata": {},
     "output_type": "execute_result"
    }
   ],
   "source": [
    "df3.reindex(['B','C','A','D'])"
   ]
  },
  {
   "cell_type": "code",
   "execution_count": 84,
   "metadata": {},
   "outputs": [
    {
     "data": {
      "text/html": [
       "<div>\n",
       "<style scoped>\n",
       "    .dataframe tbody tr th:only-of-type {\n",
       "        vertical-align: middle;\n",
       "    }\n",
       "\n",
       "    .dataframe tbody tr th {\n",
       "        vertical-align: top;\n",
       "    }\n",
       "\n",
       "    .dataframe thead th {\n",
       "        text-align: right;\n",
       "    }\n",
       "</style>\n",
       "<table border=\"1\" class=\"dataframe\">\n",
       "  <thead>\n",
       "    <tr style=\"text-align: right;\">\n",
       "      <th></th>\n",
       "      <th>B</th>\n",
       "      <th>C</th>\n",
       "      <th>A</th>\n",
       "      <th>D</th>\n",
       "    </tr>\n",
       "  </thead>\n",
       "  <tbody>\n",
       "    <tr>\n",
       "      <th>A</th>\n",
       "      <td>NaN</td>\n",
       "      <td>NaN</td>\n",
       "      <td>NaN</td>\n",
       "      <td>NaN</td>\n",
       "    </tr>\n",
       "    <tr>\n",
       "      <th>B</th>\n",
       "      <td>NaN</td>\n",
       "      <td>NaN</td>\n",
       "      <td>NaN</td>\n",
       "      <td>NaN</td>\n",
       "    </tr>\n",
       "    <tr>\n",
       "      <th>C</th>\n",
       "      <td>NaN</td>\n",
       "      <td>NaN</td>\n",
       "      <td>NaN</td>\n",
       "      <td>NaN</td>\n",
       "    </tr>\n",
       "    <tr>\n",
       "      <th>D</th>\n",
       "      <td>NaN</td>\n",
       "      <td>NaN</td>\n",
       "      <td>NaN</td>\n",
       "      <td>NaN</td>\n",
       "    </tr>\n",
       "  </tbody>\n",
       "</table>\n",
       "</div>"
      ],
      "text/plain": [
       "    B   C   A   D\n",
       "A NaN NaN NaN NaN\n",
       "B NaN NaN NaN NaN\n",
       "C NaN NaN NaN NaN\n",
       "D NaN NaN NaN NaN"
      ]
     },
     "execution_count": 84,
     "metadata": {},
     "output_type": "execute_result"
    }
   ],
   "source": [
    "df3.reindex(['B','C','A','D'],axis='columns')"
   ]
  },
  {
   "attachments": {},
   "cell_type": "markdown",
   "metadata": {},
   "source": [
    "Mapping external values to dataframe values in Pandas"
   ]
  },
  {
   "attachments": {},
   "cell_type": "markdown",
   "metadata": {},
   "source": [
    "Using map function"
   ]
  },
  {
   "cell_type": "code",
   "execution_count": 85,
   "metadata": {},
   "outputs": [
    {
     "name": "stdout",
     "output_type": "stream",
     "text": [
      "       Name  Age       City\n",
      "0    Smriti   23   Dehradun\n",
      "1   Srishti   21    Haryana\n",
      "2  Aakansha   24     Punjab\n",
      "3   Tanisha   25        Goa\n",
      "4      Lata   27  Bangalore\n"
     ]
    }
   ],
   "source": [
    "init_d={'Name':['Smriti','Srishti','Aakansha','Tanisha','Lata'],\n",
    "        'Age':[23,21,24,25,27],\n",
    "        'City':['Dehradun','Haryana','Punjab','Goa','Bangalore']}\n",
    "df4=pd.DataFrame(init_d)\n",
    "print(df4)"
   ]
  },
  {
   "cell_type": "code",
   "execution_count": 87,
   "metadata": {},
   "outputs": [
    {
     "name": "stdout",
     "output_type": "stream",
     "text": [
      "       Name  Age       City Qualification\n",
      "0    Smriti   23   Dehradun        B.Tech\n",
      "1   Srishti   21    Haryana           MBA\n",
      "2  Aakansha   24     Punjab          Bcom\n",
      "3   Tanisha   25        Goa           BBA\n",
      "4      Lata   27  Bangalore        B.Tech\n"
     ]
    }
   ],
   "source": [
    "new_d={'Smriti':'B.Tech',\n",
    "        'Srishti':'MBA',\n",
    "        'Aakansha':'Bcom',\n",
    "        'Tanisha':'BBA',\n",
    "        'Lata':'B.Tech'}\n",
    "df4['Qualification']=df4['Name'].map(new_d)\n",
    "print(df4)"
   ]
  },
  {
   "attachments": {},
   "cell_type": "markdown",
   "metadata": {},
   "source": [
    "Using replace function"
   ]
  },
  {
   "cell_type": "code",
   "execution_count": 92,
   "metadata": {},
   "outputs": [
    {
     "name": "stdout",
     "output_type": "stream",
     "text": [
      "       Name  Age         City Qualification\n",
      "0    Smriti   23  Uttarakhand        B.Tech\n",
      "1   Srishti   21   Chandigarh           MBA\n",
      "2  Aakansha   24       Punjab          Bcom\n",
      "3   Tanisha   25          Goa           BBA\n",
      "4      Lata   27    Bangalore        B.Tech\n"
     ]
    }
   ],
   "source": [
    "new_r={'Dehradun':'Uttarakhand',\n",
    "        'Haryana':'Chandigarh'}\n",
    "df4.replace(new_r,inplace=True)\n",
    "print(df4)"
   ]
  },
  {
   "cell_type": "code",
   "execution_count": 95,
   "metadata": {},
   "outputs": [
    {
     "name": "stdout",
     "output_type": "stream",
     "text": [
      "       Name  Age     Location Qualification\n",
      "0    Smriti   23  Uttarakhand        B.Tech\n",
      "1   Srishti   21   Chandigarh           MBA\n",
      "2  Aakansha   24       Punjab          Bcom\n",
      "3   Tanisha   25          Goa           BBA\n",
      "4      Lata   27    Bangalore        B.Tech\n"
     ]
    }
   ],
   "source": [
    "df4.columns=df4.columns.str.replace('City','Location')\n",
    "print(df4)"
   ]
  },
  {
   "attachments": {},
   "cell_type": "markdown",
   "metadata": {},
   "source": [
    "Reset Index in Pandas Dataframe"
   ]
  },
  {
   "cell_type": "code",
   "execution_count": 97,
   "metadata": {},
   "outputs": [
    {
     "data": {
      "text/html": [
       "<div>\n",
       "<style scoped>\n",
       "    .dataframe tbody tr th:only-of-type {\n",
       "        vertical-align: middle;\n",
       "    }\n",
       "\n",
       "    .dataframe tbody tr th {\n",
       "        vertical-align: top;\n",
       "    }\n",
       "\n",
       "    .dataframe thead th {\n",
       "        text-align: right;\n",
       "    }\n",
       "</style>\n",
       "<table border=\"1\" class=\"dataframe\">\n",
       "  <thead>\n",
       "    <tr style=\"text-align: right;\">\n",
       "      <th></th>\n",
       "      <th>Name</th>\n",
       "      <th>Age</th>\n",
       "      <th>City</th>\n",
       "    </tr>\n",
       "  </thead>\n",
       "  <tbody>\n",
       "    <tr>\n",
       "      <th>a</th>\n",
       "      <td>Smriti</td>\n",
       "      <td>23</td>\n",
       "      <td>Dehradun</td>\n",
       "    </tr>\n",
       "    <tr>\n",
       "      <th>b</th>\n",
       "      <td>Srishti</td>\n",
       "      <td>21</td>\n",
       "      <td>Haryana</td>\n",
       "    </tr>\n",
       "    <tr>\n",
       "      <th>c</th>\n",
       "      <td>Aakansha</td>\n",
       "      <td>24</td>\n",
       "      <td>Punjab</td>\n",
       "    </tr>\n",
       "    <tr>\n",
       "      <th>d</th>\n",
       "      <td>Tanisha</td>\n",
       "      <td>25</td>\n",
       "      <td>Goa</td>\n",
       "    </tr>\n",
       "    <tr>\n",
       "      <th>e</th>\n",
       "      <td>Lata</td>\n",
       "      <td>27</td>\n",
       "      <td>Bangalore</td>\n",
       "    </tr>\n",
       "  </tbody>\n",
       "</table>\n",
       "</div>"
      ],
      "text/plain": [
       "       Name  Age       City\n",
       "a    Smriti   23   Dehradun\n",
       "b   Srishti   21    Haryana\n",
       "c  Aakansha   24     Punjab\n",
       "d   Tanisha   25        Goa\n",
       "e      Lata   27  Bangalore"
      ]
     },
     "execution_count": 97,
     "metadata": {},
     "output_type": "execute_result"
    }
   ],
   "source": [
    "d={'Name':['Smriti','Srishti','Aakansha','Tanisha','Lata'],\n",
    "        'Age':[23,21,24,25,27],\n",
    "        'City':['Dehradun','Haryana','Punjab','Goa','Bangalore']}\n",
    "index=['a','b','c','d','e']\n",
    "df5=pd.DataFrame(d,index)\n",
    "df5"
   ]
  },
  {
   "cell_type": "code",
   "execution_count": 100,
   "metadata": {},
   "outputs": [
    {
     "data": {
      "text/html": [
       "<div>\n",
       "<style scoped>\n",
       "    .dataframe tbody tr th:only-of-type {\n",
       "        vertical-align: middle;\n",
       "    }\n",
       "\n",
       "    .dataframe tbody tr th {\n",
       "        vertical-align: top;\n",
       "    }\n",
       "\n",
       "    .dataframe thead th {\n",
       "        text-align: right;\n",
       "    }\n",
       "</style>\n",
       "<table border=\"1\" class=\"dataframe\">\n",
       "  <thead>\n",
       "    <tr style=\"text-align: right;\">\n",
       "      <th></th>\n",
       "      <th>Name</th>\n",
       "      <th>Age</th>\n",
       "      <th>City</th>\n",
       "    </tr>\n",
       "    <tr>\n",
       "      <th>Age</th>\n",
       "      <th></th>\n",
       "      <th></th>\n",
       "      <th></th>\n",
       "    </tr>\n",
       "  </thead>\n",
       "  <tbody>\n",
       "    <tr>\n",
       "      <th>23</th>\n",
       "      <td>Smriti</td>\n",
       "      <td>23</td>\n",
       "      <td>Dehradun</td>\n",
       "    </tr>\n",
       "    <tr>\n",
       "      <th>21</th>\n",
       "      <td>Srishti</td>\n",
       "      <td>21</td>\n",
       "      <td>Haryana</td>\n",
       "    </tr>\n",
       "    <tr>\n",
       "      <th>24</th>\n",
       "      <td>Aakansha</td>\n",
       "      <td>24</td>\n",
       "      <td>Punjab</td>\n",
       "    </tr>\n",
       "    <tr>\n",
       "      <th>25</th>\n",
       "      <td>Tanisha</td>\n",
       "      <td>25</td>\n",
       "      <td>Goa</td>\n",
       "    </tr>\n",
       "    <tr>\n",
       "      <th>27</th>\n",
       "      <td>Lata</td>\n",
       "      <td>27</td>\n",
       "      <td>Bangalore</td>\n",
       "    </tr>\n",
       "  </tbody>\n",
       "</table>\n",
       "</div>"
      ],
      "text/plain": [
       "         Name  Age       City\n",
       "Age                          \n",
       "23     Smriti   23   Dehradun\n",
       "21    Srishti   21    Haryana\n",
       "24   Aakansha   24     Punjab\n",
       "25    Tanisha   25        Goa\n",
       "27       Lata   27  Bangalore"
      ]
     },
     "execution_count": 100,
     "metadata": {},
     "output_type": "execute_result"
    }
   ],
   "source": [
    "df5.set_index(df5['Age'],inplace=True)\n",
    "df5"
   ]
  },
  {
   "attachments": {},
   "cell_type": "markdown",
   "metadata": {},
   "source": [
    "Change column names and row indexes in Pandas DataFrame"
   ]
  },
  {
   "cell_type": "code",
   "execution_count": 107,
   "metadata": {},
   "outputs": [
    {
     "data": {
      "text/html": [
       "<div>\n",
       "<style scoped>\n",
       "    .dataframe tbody tr th:only-of-type {\n",
       "        vertical-align: middle;\n",
       "    }\n",
       "\n",
       "    .dataframe tbody tr th {\n",
       "        vertical-align: top;\n",
       "    }\n",
       "\n",
       "    .dataframe thead th {\n",
       "        text-align: right;\n",
       "    }\n",
       "</style>\n",
       "<table border=\"1\" class=\"dataframe\">\n",
       "  <thead>\n",
       "    <tr style=\"text-align: right;\">\n",
       "      <th></th>\n",
       "      <th>Name</th>\n",
       "      <th>Age</th>\n",
       "    </tr>\n",
       "  </thead>\n",
       "  <tbody>\n",
       "    <tr>\n",
       "      <th>0</th>\n",
       "      <td>Peter</td>\n",
       "      <td>25</td>\n",
       "    </tr>\n",
       "    <tr>\n",
       "      <th>1</th>\n",
       "      <td>Van</td>\n",
       "      <td>26</td>\n",
       "    </tr>\n",
       "    <tr>\n",
       "      <th>2</th>\n",
       "      <td>Housan</td>\n",
       "      <td>28</td>\n",
       "    </tr>\n",
       "  </tbody>\n",
       "</table>\n",
       "</div>"
      ],
      "text/plain": [
       "     Name  Age\n",
       "0   Peter   25\n",
       "1     Van   26\n",
       "2  Housan   28"
      ]
     },
     "execution_count": 107,
     "metadata": {},
     "output_type": "execute_result"
    }
   ],
   "source": [
    "data={'Name':['Peter','Van','Housan'],\n",
    "        'Age':[25,26,28]}\n",
    "df6=pd.DataFrame(data)\n",
    "df6"
   ]
  },
  {
   "cell_type": "code",
   "execution_count": 109,
   "metadata": {},
   "outputs": [
    {
     "data": {
      "text/html": [
       "<div>\n",
       "<style scoped>\n",
       "    .dataframe tbody tr th:only-of-type {\n",
       "        vertical-align: middle;\n",
       "    }\n",
       "\n",
       "    .dataframe tbody tr th {\n",
       "        vertical-align: top;\n",
       "    }\n",
       "\n",
       "    .dataframe thead th {\n",
       "        text-align: right;\n",
       "    }\n",
       "</style>\n",
       "<table border=\"1\" class=\"dataframe\">\n",
       "  <thead>\n",
       "    <tr style=\"text-align: right;\">\n",
       "      <th></th>\n",
       "      <th>Col_1</th>\n",
       "      <th>Col2</th>\n",
       "    </tr>\n",
       "  </thead>\n",
       "  <tbody>\n",
       "    <tr>\n",
       "      <th>a</th>\n",
       "      <td>Peter</td>\n",
       "      <td>25</td>\n",
       "    </tr>\n",
       "    <tr>\n",
       "      <th>b</th>\n",
       "      <td>Van</td>\n",
       "      <td>26</td>\n",
       "    </tr>\n",
       "    <tr>\n",
       "      <th>c</th>\n",
       "      <td>Housan</td>\n",
       "      <td>28</td>\n",
       "    </tr>\n",
       "  </tbody>\n",
       "</table>\n",
       "</div>"
      ],
      "text/plain": [
       "    Col_1  Col2\n",
       "a   Peter    25\n",
       "b     Van    26\n",
       "c  Housan    28"
      ]
     },
     "execution_count": 109,
     "metadata": {},
     "output_type": "execute_result"
    }
   ],
   "source": [
    "df6.columns=['Col_1','Col2']\n",
    "df6.index=['a','b','c']\n",
    "df6"
   ]
  }
 ],
 "metadata": {
  "kernelspec": {
   "display_name": "Python 3",
   "language": "python",
   "name": "python3"
  },
  "language_info": {
   "codemirror_mode": {
    "name": "ipython",
    "version": 3
   },
   "file_extension": ".py",
   "mimetype": "text/x-python",
   "name": "python",
   "nbconvert_exporter": "python",
   "pygments_lexer": "ipython3",
   "version": "3.10.11"
  },
  "orig_nbformat": 4
 },
 "nbformat": 4,
 "nbformat_minor": 2
}
